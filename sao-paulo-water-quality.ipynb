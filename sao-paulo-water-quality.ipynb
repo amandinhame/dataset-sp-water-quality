{
 "cells": [
  {
   "cell_type": "markdown",
   "metadata": {},
   "source": [
    "# São Paulo Beaches Water Quality"
   ]
  },
  {
   "cell_type": "markdown",
   "metadata": {},
   "source": [
    "The objective of this project is to build a database of the measures of Enterococcus(UFC/100ml) in some beaches in São Paulo state. Lower numbers of Enterococcus indicate better water quality. The measures are done once a week in most of the stations (some are done monthly) since 2012."
   ]
  },
  {
   "cell_type": "code",
   "execution_count": null,
   "metadata": {},
   "outputs": [],
   "source": [
    "import re\n",
    "import datetime\n",
    "import tabula\n",
    "import csv\n",
    "import os\n",
    "\n",
    "import pandas as pd\n",
    "import numpy as np"
   ]
  },
  {
   "cell_type": "code",
   "execution_count": null,
   "metadata": {},
   "outputs": [],
   "source": [
    "pd.set_option('display.max_columns', None)"
   ]
  },
  {
   "cell_type": "code",
   "execution_count": null,
   "metadata": {},
   "outputs": [],
   "source": [
    "def clean(value):\n",
    "    \"\"\"Clean some of the fieds in the tables. If it can't be trated in this function, keep the same value but\n",
    "    print a warning so we know we have to fix it manually.\n",
    "    \"\"\"\n",
    "    \n",
    "    try:\n",
    "        return int(value)\n",
    "    except (ValueError, TypeError):\n",
    "        v = str(value).strip()\n",
    "\n",
    "        if '*' in v:\n",
    "            return clean(v.replace('*', '.'))\n",
    "        if ',' in v:\n",
    "            return clean(v.replace(',', '.'))\n",
    "        if '.' in v:\n",
    "            return clean(v.replace('.', ''))\n",
    "        if v == '':\n",
    "            return 0\n",
    "        if v == 'nan':\n",
    "            return 0\n",
    "        if v == '<1':\n",
    "            return 1\n",
    "        if re.match(r'[\\d]+[\\s][\\d]+', v):\n",
    "            return v.replace(' ', ',')\n",
    "        print('> Clean err:', value, v)\n",
    "    return value"
   ]
  },
  {
   "cell_type": "code",
   "execution_count": null,
   "metadata": {},
   "outputs": [],
   "source": [
    "def name_clean(value):\n",
    "    \"\"\"Clean string values.\"\"\"\n",
    "    \n",
    "    if '*' in value:\n",
    "        value = value.replace('*', '')\n",
    "    return value.strip()"
   ]
  },
  {
   "cell_type": "code",
   "execution_count": null,
   "metadata": {},
   "outputs": [],
   "source": [
    "def date_header(days, year):\n",
    "    \"\"\"Build the header transforming the list of days into complete date. If the file can't be parsed properly\n",
    "    it should keep only the days and print a warning so we know we have to fix it manually.\n",
    "    \"\"\"\n",
    "    \n",
    "    try: \n",
    "        month_header = []\n",
    "        month = 1\n",
    "        for i in range(len(days)):\n",
    "            prev, cur = int(days[i - 1]), int(days[i])\n",
    "            if i > 1 and cur - prev < 0 and cur != 0 and prev != 0:\n",
    "                month += 1\n",
    "            month_header.append(datetime.date(year, month, int(days[i])))\n",
    "        return month_header\n",
    "    except ValueError:\n",
    "        print('> Header err')\n",
    "        return days"
   ]
  },
  {
   "cell_type": "code",
   "execution_count": null,
   "metadata": {},
   "outputs": [],
   "source": [
    "# List of files to be parsed. Each file have several tables that need to be parsed.\n",
    "files = [\n",
    "    [2020, 'https://sistemasinter.cetesb.sp.gov.br/praias/excel/resultado-microbiologico-baixada-santista_2020.pdf'],\n",
    "    [2020, 'https://sistemasinter.cetesb.sp.gov.br/praias/excel/resultado-microbiologico-litoral-norte_2020.pdf'],\n",
    "    [2019, 'https://sistemasinter.cetesb.sp.gov.br/praias/excel/resultado-microbiologico-baixada-santista_2019.pdf'],\n",
    "    [2019, 'https://sistemasinter.cetesb.sp.gov.br/praias/excel/resultado-microbiologico-litoral-norte_2019.pdf'],\n",
    "    [2018, 'https://sistemasinter.cetesb.sp.gov.br/praias/excel/resultado-microbiologico-baixada-santista_2018.pdf'],\n",
    "    [2018, 'https://sistemasinter.cetesb.sp.gov.br/praias/excel/resultado-microbiologico-litoral-norte_2018.pdf'],\n",
    "    [2017, 'https://sistemasinter.cetesb.sp.gov.br/praias/excel/resultado-microbiologico-baixada-santista_2017.pdf'],\n",
    "    [2017, 'https://sistemasinter.cetesb.sp.gov.br/praias/excel/resultado-microbiologico-litoral-norte_2017.pdf'],\n",
    "    [2016, 'https://sistemasinter.cetesb.sp.gov.br/praias/excel/resultado-microbiologico-baixada-santista_2016.pdf'],\n",
    "    [2016, 'https://sistemasinter.cetesb.sp.gov.br/praias/excel/resultado-microbiologico-litoral-norte_2016.pdf'],\n",
    "    [2015, 'http://sistemasinter.cetesb.sp.gov.br/praias/excel/resultado-microbiologico-baixada-santista_2015.pdf'],\n",
    "    [2015, 'http://sistemasinter.cetesb.sp.gov.br/praias/excel/resultado-microbiologico-litoral-norte_2015.pdf'],\n",
    "    [2014, 'https://cetesb.sp.gov.br/praias/wp-content/uploads/sites/31/2013/11/resultado-microbiologico-baixada-santista1.pdf'],\n",
    "    [2014, 'https://cetesb.sp.gov.br/praias/wp-content/uploads/sites/31/2013/11/resultado-microbiologico-litoral-norte1.pdf'],\n",
    "    [2013, 'https://cetesb.sp.gov.br/praias/wp-content/uploads/sites/31/2013/11/resultado-microbiologico-baixada-santista.pdf'],\n",
    "    [2013, 'https://cetesb.sp.gov.br/praias/wp-content/uploads/sites/31/2013/11/resultado-microbiologico-litoral-norte.pdf'],\n",
    "    [2012, 'https://cetesb.sp.gov.br/praias/wp-content/uploads/sites/31/2013/11/resultado-microbiologico-2012-baixada-santista.pdf'],\n",
    "    [2012, 'https://cetesb.sp.gov.br/praias/wp-content/uploads/sites/31/2013/11/resultado-microbiologico-2012-litoral-norte.pdf']\n",
    "]"
   ]
  },
  {
   "cell_type": "code",
   "execution_count": null,
   "metadata": {
    "scrolled": false
   },
   "outputs": [],
   "source": [
    "# Loop through the files, parse the tables in it, save in the folder data and print warnings when the file need\n",
    "# to be fixed manually.\n",
    "for year, filename in files:\n",
    "        \n",
    "    file = tabula.read_pdf(filename, pages='all')\n",
    "    \n",
    "    for data in file:\n",
    "        city = name_clean(data.columns[0])\n",
    "        print(year, city)\n",
    "        name = f'data/{year}_{city}.csv'\n",
    "        \n",
    "        df = data.fillna(0)\n",
    "        df = df.iloc[1:,1:].applymap(clean) \n",
    "        df.columns = date_header(list(data.iloc[0, 1:]), year)\n",
    "        df.index = data.iloc[1:,0]\n",
    "        df.to_csv(name)"
   ]
  },
  {
   "cell_type": "code",
   "execution_count": null,
   "metadata": {},
   "outputs": [],
   "source": [
    "# Loop through the files with tables and do some more cleaning (quotes and spaces)\n",
    "for filename in os.listdir('data/'):\n",
    "    f = open(f'data/{filename}', 'r', encoding='utf8')\n",
    "    content = f.read()\n",
    "    f.close()\n",
    "    \n",
    "    f_new = open(f'processed/{filename}', 'w', encoding=\"utf8\")\n",
    "    f_new.write(content.replace('\\\"', '').replace(' ,', ','))    \n",
    "    f_new.close()"
   ]
  },
  {
   "cell_type": "markdown",
   "metadata": {},
   "source": [
    "I copied the files in the folder `processed` to `fixed` and manually fixed the files that had parsing error messages. This was necessary, since each file have a different table format and it was difficult to process all using one rule."
   ]
  },
  {
   "cell_type": "code",
   "execution_count": null,
   "metadata": {},
   "outputs": [],
   "source": [
    "final = pd.DataFrame(columns=['City', 'Beach', 'Date', 'Enterococcus'])\n",
    "\n",
    "for filename in os.listdir('fixed/'):\n",
    "    df = pd.read_csv(f'fixed/{filename}')\n",
    "    \n",
    "    city = df.columns[0]\n",
    "    \n",
    "    rows, cols = df.shape\n",
    "    for r in range(rows):\n",
    "        beach = df.iloc[r, 0]\n",
    "        for c in range(1, cols):\n",
    "            val = df.iloc[r, c]\n",
    "            if val > 0:\n",
    "                final = final.append({'City': city, 'Beach': beach, 'Date': df.columns[c], 'Enterococcus': val}, ignore_index=True)\n",
    "\n",
    "final.to_csv('sp_beaches.csv', index=False)"
   ]
  }
 ],
 "metadata": {
  "kernelspec": {
   "display_name": "Python 3",
   "language": "python",
   "name": "python3"
  },
  "language_info": {
   "codemirror_mode": {
    "name": "ipython",
    "version": 3
   },
   "file_extension": ".py",
   "mimetype": "text/x-python",
   "name": "python",
   "nbconvert_exporter": "python",
   "pygments_lexer": "ipython3",
   "version": "3.7.6"
  },
  "toc": {
   "base_numbering": 1,
   "nav_menu": {},
   "number_sections": false,
   "sideBar": true,
   "skip_h1_title": false,
   "title_cell": "Table of Contents",
   "title_sidebar": "Contents",
   "toc_cell": false,
   "toc_position": {
    "height": "calc(100% - 180px)",
    "left": "10px",
    "top": "150px",
    "width": "165px"
   },
   "toc_section_display": true,
   "toc_window_display": true
  }
 },
 "nbformat": 4,
 "nbformat_minor": 4
}
